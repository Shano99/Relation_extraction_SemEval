{
 "cells": [
  {
   "cell_type": "code",
   "execution_count": null,
   "id": "b87fabcd-c1a1-432f-9087-89f1732f2436",
   "metadata": {},
   "outputs": [
    {
     "name": "stderr",
     "output_type": "stream",
     "text": [
      "[nltk_data] Downloading package stopwords to\n",
      "[nltk_data]     C:\\Users\\Shano\\AppData\\Roaming\\nltk_data...\n",
      "[nltk_data]   Package stopwords is already up-to-date!\n",
      "[nltk_data] Downloading package maxent_treebank_pos_tagger to\n",
      "[nltk_data]     C:\\Users\\Shano\\AppData\\Roaming\\nltk_data...\n",
      "[nltk_data]   Package maxent_treebank_pos_tagger is already up-to-\n",
      "[nltk_data]       date!\n",
      "[nltk_data] Downloading package maxent_treebank_pos_tagger to\n",
      "[nltk_data]     C:\\Users\\Shano\\AppData\\Roaming\\nltk_data...\n",
      "[nltk_data]   Package maxent_treebank_pos_tagger is already up-to-\n",
      "[nltk_data]       date!\n"
     ]
    },
    {
     "name": "stdout",
     "output_type": "stream",
     "text": [
      "Loading word2vec model ...\n",
      "\n",
      "The word2vec mode has  200 dimensions\n",
      "Configuration parameters\n",
      "========================\n",
      "\n",
      "context window       : 4\n",
      "max tokens away      : 20\n",
      "min tokens away      : 0\n",
      "word2vec model       : afp_apw_xin_embeddings.bin\n",
      "\n",
      "\n",
      "alpha                : 0.0\n",
      "beta                 : 1.0\n",
      "gamma                : 0.0\n",
      "\n",
      "\n",
      "threshold_similarity : 0.3\n",
      "instance confidence  : 0.3\n",
      "min_pattern_support  : 4\n",
      "iterations           : 6\n",
      "\n",
      "\n",
      "\n",
      "Processing input sentences\n",
      "==========================================\n",
      "\n",
      "Starting iteration 0\n",
      "\n",
      "40 tuples matched\n",
      "\n",
      "Clustering matched instances to generate patterns\n"
     ]
    },
    {
     "name": "stderr",
     "output_type": "stream",
     "text": [
      "100%|█████████████████████████████████████████████████████████████████████████████████| 40/40 [00:00<00:00, 375.18it/s]\n"
     ]
    },
    {
     "name": "stdout",
     "output_type": "stream",
     "text": [
      "\n",
      "4 patterns generated\n",
      "Number of tuples to be analyzed: 400\n",
      "\n",
      "Collecting instances based on extraction patterns\n"
     ]
    },
    {
     "name": "stderr",
     "output_type": "stream",
     "text": [
      "100%|██████████████████████████████████████████████████████████████████████████████| 400/400 [00:00<00:00, 1356.57it/s]\n"
     ]
    },
    {
     "name": "stdout",
     "output_type": "stream",
     "text": [
      "\n",
      "\n",
      "Calculating tuples confidence\n",
      "Adding tuples to seed with confidence >= 0.3\n",
      "==========================================\n",
      "\n",
      "Starting iteration 1\n",
      "\n",
      "78 tuples matched\n",
      "\n",
      "Clustering matched instances to generate patterns\n"
     ]
    },
    {
     "name": "stderr",
     "output_type": "stream",
     "text": [
      "100%|█████████████████████████████████████████████████████████████████████████████████| 78/78 [00:00<00:00, 718.16it/s]\n"
     ]
    },
    {
     "name": "stdout",
     "output_type": "stream",
     "text": [
      "\n",
      "4 patterns generated\n",
      "Number of tuples to be analyzed: 400\n",
      "\n",
      "Collecting instances based on extraction patterns\n"
     ]
    },
    {
     "name": "stderr",
     "output_type": "stream",
     "text": [
      "100%|███████████████████████████████████████████████████████████████████████████████| 400/400 [00:00<00:00, 559.58it/s]\n"
     ]
    },
    {
     "name": "stdout",
     "output_type": "stream",
     "text": [
      "\n",
      "\n",
      "Calculating tuples confidence\n",
      "Adding tuples to seed with confidence >= 0.3\n",
      "==========================================\n",
      "\n",
      "Starting iteration 2\n",
      "\n",
      "132 tuples matched\n",
      "\n",
      "Clustering matched instances to generate patterns\n"
     ]
    },
    {
     "name": "stderr",
     "output_type": "stream",
     "text": [
      "100%|███████████████████████████████████████████████████████████████████████████████| 132/132 [00:00<00:00, 395.09it/s]\n"
     ]
    },
    {
     "name": "stdout",
     "output_type": "stream",
     "text": [
      "\n",
      "4 patterns generated\n",
      "Number of tuples to be analyzed: 400\n",
      "\n",
      "Collecting instances based on extraction patterns\n"
     ]
    },
    {
     "name": "stderr",
     "output_type": "stream",
     "text": [
      "100%|███████████████████████████████████████████████████████████████████████████████| 400/400 [00:01<00:00, 302.53it/s]\n"
     ]
    },
    {
     "name": "stdout",
     "output_type": "stream",
     "text": [
      "\n",
      "\n",
      "Calculating tuples confidence\n",
      "Adding tuples to seed with confidence >= 0.3\n",
      "==========================================\n",
      "\n",
      "Starting iteration 3\n",
      "\n",
      "189 tuples matched\n",
      "\n",
      "Clustering matched instances to generate patterns\n"
     ]
    },
    {
     "name": "stderr",
     "output_type": "stream",
     "text": [
      "100%|███████████████████████████████████████████████████████████████████████████████| 189/189 [00:00<00:00, 228.99it/s]\n"
     ]
    },
    {
     "name": "stdout",
     "output_type": "stream",
     "text": [
      "\n",
      "4 patterns generated\n",
      "Number of tuples to be analyzed: 400\n",
      "\n",
      "Collecting instances based on extraction patterns\n"
     ]
    },
    {
     "name": "stderr",
     "output_type": "stream",
     "text": [
      "100%|███████████████████████████████████████████████████████████████████████████████| 400/400 [00:01<00:00, 207.24it/s]\n"
     ]
    },
    {
     "name": "stdout",
     "output_type": "stream",
     "text": [
      "\n",
      "\n",
      "Calculating tuples confidence\n",
      "Adding tuples to seed with confidence >= 0.3\n",
      "==========================================\n",
      "\n",
      "Starting iteration 4\n",
      "\n",
      "250 tuples matched\n",
      "\n",
      "Clustering matched instances to generate patterns\n"
     ]
    },
    {
     "name": "stderr",
     "output_type": "stream",
     "text": [
      "100%|███████████████████████████████████████████████████████████████████████████████| 250/250 [00:01<00:00, 163.07it/s]\n"
     ]
    },
    {
     "name": "stdout",
     "output_type": "stream",
     "text": [
      "\n",
      "5 patterns generated\n",
      "Number of tuples to be analyzed: 400\n",
      "\n",
      "Collecting instances based on extraction patterns\n"
     ]
    },
    {
     "name": "stderr",
     "output_type": "stream",
     "text": [
      "100%|███████████████████████████████████████████████████████████████████████████████| 400/400 [00:02<00:00, 138.85it/s]\n"
     ]
    },
    {
     "name": "stdout",
     "output_type": "stream",
     "text": [
      "\n",
      "\n",
      "Calculating tuples confidence\n",
      "Adding tuples to seed with confidence >= 0.3\n",
      "==========================================\n",
      "\n",
      "Starting iteration 5\n",
      "\n",
      "269 tuples matched\n",
      "\n",
      "Clustering matched instances to generate patterns\n"
     ]
    },
    {
     "name": "stderr",
     "output_type": "stream",
     "text": [
      "100%|███████████████████████████████████████████████████████████████████████████████| 269/269 [00:02<00:00, 112.41it/s]\n"
     ]
    },
    {
     "name": "stdout",
     "output_type": "stream",
     "text": [
      "\n",
      "5 patterns generated\n",
      "Number of tuples to be analyzed: 400\n",
      "\n",
      "Collecting instances based on extraction patterns\n"
     ]
    },
    {
     "name": "stderr",
     "output_type": "stream",
     "text": [
      "100%|███████████████████████████████████████████████████████████████████████████████| 400/400 [00:02<00:00, 133.57it/s]\n"
     ]
    },
    {
     "name": "stdout",
     "output_type": "stream",
     "text": [
      "\n",
      "\n",
      "Calculating tuples confidence\n",
      "Adding tuples to seed with confidence >= 0.3\n",
      "==========================================\n",
      "\n",
      "Starting iteration 6\n",
      "\n",
      "273 tuples matched\n",
      "\n",
      "Clustering matched instances to generate patterns\n"
     ]
    },
    {
     "name": "stderr",
     "output_type": "stream",
     "text": [
      "100%|███████████████████████████████████████████████████████████████████████████████| 273/273 [00:02<00:00, 132.20it/s]\n"
     ]
    },
    {
     "name": "stdout",
     "output_type": "stream",
     "text": [
      "\n",
      "5 patterns generated\n",
      "Number of tuples to be analyzed: 400\n",
      "\n",
      "Collecting instances based on extraction patterns\n"
     ]
    },
    {
     "name": "stderr",
     "output_type": "stream",
     "text": [
      "100%|███████████████████████████████████████████████████████████████████████████████| 400/400 [00:02<00:00, 135.87it/s]\n"
     ]
    },
    {
     "name": "stdout",
     "output_type": "stream",
     "text": [
      "\n",
      "\n",
      "Calculating tuples confidence\n",
      "Adding tuples to seed with confidence >= 0.3\n",
      "\n",
      "Writing extracted relationships to disk\n",
      "==========================================\n",
      "\n",
      "Starting iteration 0\n",
      "\n",
      "49 tuples matched\n",
      "\n",
      "Clustering matched instances to generate patterns\n"
     ]
    },
    {
     "name": "stderr",
     "output_type": "stream",
     "text": [
      "100%|████████████████████████████████████████████████████████████████████████████████| 49/49 [00:00<00:00, 1602.95it/s]\n"
     ]
    },
    {
     "name": "stdout",
     "output_type": "stream",
     "text": [
      "\n",
      "4 patterns generated\n",
      "Number of tuples to be analyzed: 441\n",
      "\n",
      "Collecting instances based on extraction patterns\n"
     ]
    },
    {
     "name": "stderr",
     "output_type": "stream",
     "text": [
      "100%|██████████████████████████████████████████████████████████████████████████████| 441/441 [00:00<00:00, 1186.12it/s]\n"
     ]
    },
    {
     "name": "stdout",
     "output_type": "stream",
     "text": [
      "\n",
      "\n",
      "Calculating tuples confidence\n",
      "Adding tuples to seed with confidence >= 0.3\n",
      "==========================================\n",
      "\n",
      "Starting iteration 1\n",
      "\n",
      "180 tuples matched\n",
      "\n",
      "Clustering matched instances to generate patterns\n"
     ]
    },
    {
     "name": "stderr",
     "output_type": "stream",
     "text": [
      "100%|███████████████████████████████████████████████████████████████████████████████| 180/180 [00:00<00:00, 381.17it/s]\n"
     ]
    },
    {
     "name": "stdout",
     "output_type": "stream",
     "text": [
      "\n",
      "5 patterns generated\n",
      "Number of tuples to be analyzed: 441\n",
      "\n",
      "Collecting instances based on extraction patterns\n"
     ]
    },
    {
     "name": "stderr",
     "output_type": "stream",
     "text": [
      "100%|███████████████████████████████████████████████████████████████████████████████| 441/441 [00:01<00:00, 228.05it/s]\n"
     ]
    },
    {
     "name": "stdout",
     "output_type": "stream",
     "text": [
      "\n",
      "\n",
      "Calculating tuples confidence\n",
      "Adding tuples to seed with confidence >= 0.3\n",
      "==========================================\n",
      "\n",
      "Starting iteration 2\n",
      "\n",
      "273 tuples matched\n",
      "\n",
      "Clustering matched instances to generate patterns\n"
     ]
    },
    {
     "name": "stderr",
     "output_type": "stream",
     "text": [
      "100%|███████████████████████████████████████████████████████████████████████████████| 273/273 [00:01<00:00, 177.21it/s]\n"
     ]
    },
    {
     "name": "stdout",
     "output_type": "stream",
     "text": [
      "\n",
      "6 patterns generated\n",
      "Number of tuples to be analyzed: 441\n",
      "\n",
      "Collecting instances based on extraction patterns\n"
     ]
    },
    {
     "name": "stderr",
     "output_type": "stream",
     "text": [
      "100%|███████████████████████████████████████████████████████████████████████████████| 441/441 [00:02<00:00, 150.04it/s]\n"
     ]
    },
    {
     "name": "stdout",
     "output_type": "stream",
     "text": [
      "\n",
      "\n",
      "Calculating tuples confidence\n",
      "Adding tuples to seed with confidence >= 0.3\n",
      "==========================================\n",
      "\n",
      "Starting iteration 3\n",
      "\n",
      "329 tuples matched\n",
      "\n",
      "Clustering matched instances to generate patterns\n"
     ]
    },
    {
     "name": "stderr",
     "output_type": "stream",
     "text": [
      "100%|███████████████████████████████████████████████████████████████████████████████| 329/329 [00:02<00:00, 129.84it/s]\n"
     ]
    },
    {
     "name": "stdout",
     "output_type": "stream",
     "text": [
      "\n",
      "8 patterns generated\n",
      "Number of tuples to be analyzed: 441\n",
      "\n",
      "Collecting instances based on extraction patterns\n"
     ]
    },
    {
     "name": "stderr",
     "output_type": "stream",
     "text": [
      "100%|███████████████████████████████████████████████████████████████████████████████| 441/441 [00:03<00:00, 121.89it/s]\n"
     ]
    },
    {
     "name": "stdout",
     "output_type": "stream",
     "text": [
      "\n",
      "\n",
      "Calculating tuples confidence\n",
      "Adding tuples to seed with confidence >= 0.3\n",
      "==========================================\n",
      "\n",
      "Starting iteration 4\n",
      "\n",
      "362 tuples matched\n",
      "\n",
      "Clustering matched instances to generate patterns\n"
     ]
    },
    {
     "name": "stderr",
     "output_type": "stream",
     "text": [
      "100%|███████████████████████████████████████████████████████████████████████████████| 362/362 [00:03<00:00, 110.46it/s]\n"
     ]
    },
    {
     "name": "stdout",
     "output_type": "stream",
     "text": [
      "\n",
      "9 patterns generated\n",
      "Number of tuples to be analyzed: 441\n",
      "\n",
      "Collecting instances based on extraction patterns\n"
     ]
    },
    {
     "name": "stderr",
     "output_type": "stream",
     "text": [
      "100%|████████████████████████████████████████████████████████████████████████████████| 441/441 [00:04<00:00, 97.78it/s]\n"
     ]
    },
    {
     "name": "stdout",
     "output_type": "stream",
     "text": [
      "\n",
      "\n",
      "Calculating tuples confidence\n",
      "Adding tuples to seed with confidence >= 0.3\n",
      "==========================================\n",
      "\n",
      "Starting iteration 5\n",
      "\n",
      "381 tuples matched\n",
      "\n",
      "Clustering matched instances to generate patterns\n"
     ]
    },
    {
     "name": "stderr",
     "output_type": "stream",
     "text": [
      "100%|████████████████████████████████████████████████████████████████████████████████| 381/381 [00:03<00:00, 97.93it/s]\n"
     ]
    },
    {
     "name": "stdout",
     "output_type": "stream",
     "text": [
      "\n",
      "11 patterns generated\n",
      "Number of tuples to be analyzed: 441\n",
      "\n",
      "Collecting instances based on extraction patterns\n"
     ]
    },
    {
     "name": "stderr",
     "output_type": "stream",
     "text": [
      "100%|███████████████████████████████████████████████████████████████████████████████| 441/441 [00:03<00:00, 110.65it/s]\n"
     ]
    },
    {
     "name": "stdout",
     "output_type": "stream",
     "text": [
      "\n",
      "\n",
      "Calculating tuples confidence\n",
      "Adding tuples to seed with confidence >= 0.3\n",
      "==========================================\n",
      "\n",
      "Starting iteration 6\n",
      "\n",
      "389 tuples matched\n",
      "\n",
      "Clustering matched instances to generate patterns\n"
     ]
    },
    {
     "name": "stderr",
     "output_type": "stream",
     "text": [
      "100%|████████████████████████████████████████████████████████████████████████████████| 389/389 [00:04<00:00, 95.37it/s]\n"
     ]
    },
    {
     "name": "stdout",
     "output_type": "stream",
     "text": [
      "\n",
      "11 patterns generated\n",
      "Number of tuples to be analyzed: 441\n",
      "\n",
      "Collecting instances based on extraction patterns\n"
     ]
    },
    {
     "name": "stderr",
     "output_type": "stream",
     "text": [
      "100%|████████████████████████████████████████████████████████████████████████████████| 441/441 [00:05<00:00, 82.28it/s]\n"
     ]
    },
    {
     "name": "stdout",
     "output_type": "stream",
     "text": [
      "\n",
      "\n",
      "Calculating tuples confidence\n",
      "Adding tuples to seed with confidence >= 0.3\n",
      "\n",
      "Writing extracted relationships to disk\n",
      "==========================================\n",
      "\n",
      "Starting iteration 0\n",
      "\n",
      "8 tuples matched\n",
      "\n",
      "Clustering matched instances to generate patterns\n"
     ]
    },
    {
     "name": "stderr",
     "output_type": "stream",
     "text": [
      "100%|██████████████████████████████████████████████████████████████████████████████████| 8/8 [00:00<00:00, 3992.20it/s]\n"
     ]
    },
    {
     "name": "stdout",
     "output_type": "stream",
     "text": [
      "\n",
      "1 patterns generated\n",
      "Number of tuples to be analyzed: 64\n",
      "\n",
      "Collecting instances based on extraction patterns\n"
     ]
    },
    {
     "name": "stderr",
     "output_type": "stream",
     "text": [
      "100%|████████████████████████████████████████████████████████████████████████████████| 64/64 [00:00<00:00, 6400.01it/s]\n"
     ]
    },
    {
     "name": "stdout",
     "output_type": "stream",
     "text": [
      "\n",
      "\n",
      "Calculating tuples confidence\n",
      "Adding tuples to seed with confidence >= 0.3\n",
      "==========================================\n",
      "\n",
      "Starting iteration 1\n",
      "\n",
      "36 tuples matched\n",
      "\n",
      "Clustering matched instances to generate patterns\n"
     ]
    },
    {
     "name": "stderr",
     "output_type": "stream",
     "text": [
      "100%|████████████████████████████████████████████████████████████████████████████████| 36/36 [00:00<00:00, 2112.02it/s]\n"
     ]
    },
    {
     "name": "stdout",
     "output_type": "stream",
     "text": [
      "\n",
      "1 patterns generated\n",
      "Number of tuples to be analyzed: 64\n",
      "\n",
      "Collecting instances based on extraction patterns\n"
     ]
    },
    {
     "name": "stderr",
     "output_type": "stream",
     "text": [
      "100%|████████████████████████████████████████████████████████████████████████████████| 64/64 [00:00<00:00, 1800.05it/s]\n"
     ]
    },
    {
     "name": "stdout",
     "output_type": "stream",
     "text": [
      "\n",
      "\n",
      "Calculating tuples confidence\n",
      "Adding tuples to seed with confidence >= 0.3\n",
      "==========================================\n",
      "\n",
      "Starting iteration 2\n",
      "\n",
      "36 tuples matched\n",
      "\n",
      "Clustering matched instances to generate patterns\n"
     ]
    },
    {
     "name": "stderr",
     "output_type": "stream",
     "text": [
      "100%|████████████████████████████████████████████████████████████████████████████████| 36/36 [00:00<00:00, 1497.27it/s]\n"
     ]
    },
    {
     "name": "stdout",
     "output_type": "stream",
     "text": [
      "\n",
      "1 patterns generated\n",
      "Number of tuples to be analyzed: 64\n",
      "\n",
      "Collecting instances based on extraction patterns\n"
     ]
    },
    {
     "name": "stderr",
     "output_type": "stream",
     "text": [
      "100%|████████████████████████████████████████████████████████████████████████████████| 64/64 [00:00<00:00, 1728.69it/s]\n"
     ]
    },
    {
     "name": "stdout",
     "output_type": "stream",
     "text": [
      "\n",
      "\n",
      "Calculating tuples confidence\n",
      "Adding tuples to seed with confidence >= 0.3\n",
      "==========================================\n",
      "\n",
      "Starting iteration 3\n",
      "\n",
      "36 tuples matched\n",
      "\n",
      "Clustering matched instances to generate patterns\n"
     ]
    },
    {
     "name": "stderr",
     "output_type": "stream",
     "text": [
      "100%|████████████████████████████████████████████████████████████████████████████████| 36/36 [00:00<00:00, 1465.24it/s]\n"
     ]
    },
    {
     "name": "stdout",
     "output_type": "stream",
     "text": [
      "\n",
      "1 patterns generated\n",
      "Number of tuples to be analyzed: 64\n",
      "\n",
      "Collecting instances based on extraction patterns\n"
     ]
    },
    {
     "name": "stderr",
     "output_type": "stream",
     "text": [
      "100%|████████████████████████████████████████████████████████████████████████████████| 64/64 [00:00<00:00, 1390.01it/s]\n"
     ]
    },
    {
     "name": "stdout",
     "output_type": "stream",
     "text": [
      "\n",
      "\n",
      "Calculating tuples confidence\n",
      "Adding tuples to seed with confidence >= 0.3\n",
      "==========================================\n",
      "\n",
      "Starting iteration 4\n",
      "\n",
      "36 tuples matched\n",
      "\n",
      "Clustering matched instances to generate patterns\n"
     ]
    },
    {
     "name": "stderr",
     "output_type": "stream",
     "text": [
      "100%|█████████████████████████████████████████████████████████████████████████████████| 36/36 [00:00<00:00, 960.86it/s]\n"
     ]
    },
    {
     "name": "stdout",
     "output_type": "stream",
     "text": [
      "\n",
      "1 patterns generated\n",
      "Number of tuples to be analyzed: 64\n",
      "\n",
      "Collecting instances based on extraction patterns\n"
     ]
    },
    {
     "name": "stderr",
     "output_type": "stream",
     "text": [
      "100%|████████████████████████████████████████████████████████████████████████████████| 64/64 [00:00<00:00, 1682.36it/s]\n"
     ]
    },
    {
     "name": "stdout",
     "output_type": "stream",
     "text": [
      "\n",
      "\n",
      "Calculating tuples confidence\n",
      "Adding tuples to seed with confidence >= 0.3\n",
      "==========================================\n",
      "\n",
      "Starting iteration 5\n",
      "\n",
      "36 tuples matched\n",
      "\n",
      "Clustering matched instances to generate patterns\n"
     ]
    },
    {
     "name": "stderr",
     "output_type": "stream",
     "text": [
      "100%|████████████████████████████████████████████████████████████████████████████████| 36/36 [00:00<00:00, 1383.22it/s]\n"
     ]
    },
    {
     "name": "stdout",
     "output_type": "stream",
     "text": [
      "\n",
      "1 patterns generated\n",
      "Number of tuples to be analyzed: 64\n",
      "\n",
      "Collecting instances based on extraction patterns\n"
     ]
    },
    {
     "name": "stderr",
     "output_type": "stream",
     "text": [
      "100%|████████████████████████████████████████████████████████████████████████████████| 64/64 [00:00<00:00, 1796.82it/s]\n"
     ]
    },
    {
     "name": "stdout",
     "output_type": "stream",
     "text": [
      "\n",
      "\n",
      "Calculating tuples confidence\n",
      "Adding tuples to seed with confidence >= 0.3\n",
      "==========================================\n",
      "\n",
      "Starting iteration 6\n",
      "\n",
      "36 tuples matched\n",
      "\n",
      "Clustering matched instances to generate patterns\n"
     ]
    },
    {
     "name": "stderr",
     "output_type": "stream",
     "text": [
      "100%|████████████████████████████████████████████████████████████████████████████████| 36/36 [00:00<00:00, 1498.00it/s]\n"
     ]
    },
    {
     "name": "stdout",
     "output_type": "stream",
     "text": [
      "\n",
      "1 patterns generated\n",
      "Number of tuples to be analyzed: 64\n",
      "\n",
      "Collecting instances based on extraction patterns\n"
     ]
    },
    {
     "name": "stderr",
     "output_type": "stream",
     "text": [
      "100%|████████████████████████████████████████████████████████████████████████████████| 64/64 [00:00<00:00, 1778.07it/s]\n"
     ]
    },
    {
     "name": "stdout",
     "output_type": "stream",
     "text": [
      "\n",
      "\n",
      "Calculating tuples confidence\n",
      "Adding tuples to seed with confidence >= 0.3\n",
      "\n",
      "Writing extracted relationships to disk\n",
      "==========================================\n",
      "\n",
      "Starting iteration 0\n",
      "\n",
      "63 tuples matched\n",
      "\n",
      "Clustering matched instances to generate patterns\n"
     ]
    },
    {
     "name": "stderr",
     "output_type": "stream",
     "text": [
      "100%|████████████████████████████████████████████████████████████████████████████████| 63/63 [00:00<00:00, 1360.43it/s]\n"
     ]
    },
    {
     "name": "stdout",
     "output_type": "stream",
     "text": [
      "\n",
      "2 patterns generated\n",
      "Number of tuples to be analyzed: 618\n",
      "\n",
      "Collecting instances based on extraction patterns\n"
     ]
    },
    {
     "name": "stderr",
     "output_type": "stream",
     "text": [
      "100%|███████████████████████████████████████████████████████████████████████████████| 618/618 [00:00<00:00, 690.67it/s]\n"
     ]
    },
    {
     "name": "stdout",
     "output_type": "stream",
     "text": [
      "\n",
      "\n",
      "Calculating tuples confidence\n",
      "Adding tuples to seed with confidence >= 0.3\n",
      "==========================================\n",
      "\n",
      "Starting iteration 1\n",
      "\n",
      "82 tuples matched\n",
      "\n",
      "Clustering matched instances to generate patterns\n"
     ]
    },
    {
     "name": "stderr",
     "output_type": "stream",
     "text": [
      "100%|█████████████████████████████████████████████████████████████████████████████████| 82/82 [00:00<00:00, 680.39it/s]\n"
     ]
    },
    {
     "name": "stdout",
     "output_type": "stream",
     "text": [
      "\n",
      "4 patterns generated\n",
      "Number of tuples to be analyzed: 618\n",
      "\n",
      "Collecting instances based on extraction patterns\n"
     ]
    },
    {
     "name": "stderr",
     "output_type": "stream",
     "text": [
      "100%|███████████████████████████████████████████████████████████████████████████████| 618/618 [00:01<00:00, 361.95it/s]\n"
     ]
    },
    {
     "name": "stdout",
     "output_type": "stream",
     "text": [
      "\n",
      "\n",
      "Calculating tuples confidence\n",
      "Adding tuples to seed with confidence >= 0.3\n",
      "==========================================\n",
      "\n",
      "Starting iteration 2\n",
      "\n",
      "94 tuples matched\n",
      "\n",
      "Clustering matched instances to generate patterns\n"
     ]
    },
    {
     "name": "stderr",
     "output_type": "stream",
     "text": [
      "100%|█████████████████████████████████████████████████████████████████████████████████| 94/94 [00:00<00:00, 255.35it/s]\n"
     ]
    },
    {
     "name": "stdout",
     "output_type": "stream",
     "text": [
      "\n",
      "5 patterns generated\n",
      "Number of tuples to be analyzed: 618\n",
      "\n",
      "Collecting instances based on extraction patterns\n"
     ]
    },
    {
     "name": "stderr",
     "output_type": "stream",
     "text": [
      "100%|███████████████████████████████████████████████████████████████████████████████| 618/618 [00:01<00:00, 410.10it/s]\n"
     ]
    },
    {
     "name": "stdout",
     "output_type": "stream",
     "text": [
      "\n",
      "\n",
      "Calculating tuples confidence\n",
      "Adding tuples to seed with confidence >= 0.3\n",
      "==========================================\n",
      "\n",
      "Starting iteration 3\n",
      "\n",
      "106 tuples matched\n",
      "\n",
      "Clustering matched instances to generate patterns\n"
     ]
    },
    {
     "name": "stderr",
     "output_type": "stream",
     "text": [
      "100%|███████████████████████████████████████████████████████████████████████████████| 106/106 [00:00<00:00, 474.05it/s]\n"
     ]
    },
    {
     "name": "stdout",
     "output_type": "stream",
     "text": [
      "\n",
      "6 patterns generated\n",
      "Number of tuples to be analyzed: 618\n",
      "\n",
      "Collecting instances based on extraction patterns\n"
     ]
    },
    {
     "name": "stderr",
     "output_type": "stream",
     "text": [
      "100%|███████████████████████████████████████████████████████████████████████████████| 618/618 [00:01<00:00, 340.84it/s]\n"
     ]
    },
    {
     "name": "stdout",
     "output_type": "stream",
     "text": [
      "\n",
      "\n",
      "Calculating tuples confidence\n",
      "Adding tuples to seed with confidence >= 0.3\n",
      "==========================================\n",
      "\n",
      "Starting iteration 4\n",
      "\n",
      "120 tuples matched\n",
      "\n",
      "Clustering matched instances to generate patterns\n"
     ]
    },
    {
     "name": "stderr",
     "output_type": "stream",
     "text": [
      "100%|███████████████████████████████████████████████████████████████████████████████| 120/120 [00:00<00:00, 177.68it/s]\n"
     ]
    },
    {
     "name": "stdout",
     "output_type": "stream",
     "text": [
      "\n",
      "7 patterns generated\n",
      "Number of tuples to be analyzed: 618\n",
      "\n",
      "Collecting instances based on extraction patterns\n"
     ]
    },
    {
     "name": "stderr",
     "output_type": "stream",
     "text": [
      "100%|███████████████████████████████████████████████████████████████████████████████| 618/618 [00:02<00:00, 214.10it/s]\n"
     ]
    },
    {
     "name": "stdout",
     "output_type": "stream",
     "text": [
      "\n",
      "\n",
      "Calculating tuples confidence\n",
      "Adding tuples to seed with confidence >= 0.3\n",
      "==========================================\n",
      "\n",
      "Starting iteration 5\n",
      "\n",
      "124 tuples matched\n",
      "\n",
      "Clustering matched instances to generate patterns\n"
     ]
    },
    {
     "name": "stderr",
     "output_type": "stream",
     "text": [
      "100%|███████████████████████████████████████████████████████████████████████████████| 124/124 [00:00<00:00, 387.59it/s]\n"
     ]
    },
    {
     "name": "stdout",
     "output_type": "stream",
     "text": [
      "\n",
      "7 patterns generated\n",
      "Number of tuples to be analyzed: 618\n",
      "\n",
      "Collecting instances based on extraction patterns\n"
     ]
    },
    {
     "name": "stderr",
     "output_type": "stream",
     "text": [
      "100%|███████████████████████████████████████████████████████████████████████████████| 618/618 [00:02<00:00, 288.09it/s]\n"
     ]
    },
    {
     "name": "stdout",
     "output_type": "stream",
     "text": [
      "\n",
      "\n",
      "Calculating tuples confidence\n",
      "Adding tuples to seed with confidence >= 0.3\n",
      "==========================================\n",
      "\n",
      "Starting iteration 6\n",
      "\n",
      "129 tuples matched\n",
      "\n",
      "Clustering matched instances to generate patterns\n"
     ]
    },
    {
     "name": "stderr",
     "output_type": "stream",
     "text": [
      "100%|███████████████████████████████████████████████████████████████████████████████| 129/129 [00:00<00:00, 145.88it/s]\n"
     ]
    },
    {
     "name": "stdout",
     "output_type": "stream",
     "text": [
      "\n",
      "7 patterns generated\n",
      "Number of tuples to be analyzed: 618\n",
      "\n",
      "Collecting instances based on extraction patterns\n"
     ]
    },
    {
     "name": "stderr",
     "output_type": "stream",
     "text": [
      "100%|███████████████████████████████████████████████████████████████████████████████| 618/618 [00:05<00:00, 115.47it/s]\n"
     ]
    },
    {
     "name": "stdout",
     "output_type": "stream",
     "text": [
      "\n",
      "\n",
      "Calculating tuples confidence\n",
      "Adding tuples to seed with confidence >= 0.3\n",
      "\n",
      "Writing extracted relationships to disk\n",
      "==========================================\n",
      "\n",
      "Starting iteration 0\n",
      "\n",
      "74 tuples matched\n",
      "\n",
      "Clustering matched instances to generate patterns\n"
     ]
    },
    {
     "name": "stderr",
     "output_type": "stream",
     "text": [
      "100%|█████████████████████████████████████████████████████████████████████████████████| 74/74 [00:00<00:00, 508.56it/s]\n"
     ]
    },
    {
     "name": "stdout",
     "output_type": "stream",
     "text": [
      "\n",
      "4 patterns generated\n",
      "Number of tuples to be analyzed: 741\n",
      "\n",
      "Collecting instances based on extraction patterns\n"
     ]
    },
    {
     "name": "stderr",
     "output_type": "stream",
     "text": [
      "100%|███████████████████████████████████████████████████████████████████████████████| 741/741 [00:02<00:00, 329.29it/s]\n"
     ]
    },
    {
     "name": "stdout",
     "output_type": "stream",
     "text": [
      "\n",
      "\n",
      "Calculating tuples confidence\n",
      "Adding tuples to seed with confidence >= 0.3\n",
      "==========================================\n",
      "\n",
      "Starting iteration 1\n",
      "\n",
      "326 tuples matched\n",
      "\n",
      "Clustering matched instances to generate patterns\n"
     ]
    },
    {
     "name": "stderr",
     "output_type": "stream",
     "text": [
      "100%|███████████████████████████████████████████████████████████████████████████████| 326/326 [00:01<00:00, 172.04it/s]\n"
     ]
    },
    {
     "name": "stdout",
     "output_type": "stream",
     "text": [
      "\n",
      "6 patterns generated\n",
      "Number of tuples to be analyzed: 741\n",
      "\n",
      "Collecting instances based on extraction patterns\n"
     ]
    },
    {
     "name": "stderr",
     "output_type": "stream",
     "text": [
      "100%|████████████████████████████████████████████████████████████████████████████████| 741/741 [00:08<00:00, 88.16it/s]\n"
     ]
    },
    {
     "name": "stdout",
     "output_type": "stream",
     "text": [
      "\n",
      "\n",
      "Calculating tuples confidence\n",
      "Adding tuples to seed with confidence >= 0.3\n",
      "==========================================\n",
      "\n",
      "Starting iteration 2\n",
      "\n",
      "464 tuples matched\n",
      "\n",
      "Clustering matched instances to generate patterns\n"
     ]
    },
    {
     "name": "stderr",
     "output_type": "stream",
     "text": [
      "100%|████████████████████████████████████████████████████████████████████████████████| 464/464 [00:05<00:00, 78.43it/s]\n"
     ]
    },
    {
     "name": "stdout",
     "output_type": "stream",
     "text": [
      "\n",
      "9 patterns generated\n",
      "Number of tuples to be analyzed: 741\n",
      "\n",
      "Collecting instances based on extraction patterns\n"
     ]
    },
    {
     "name": "stderr",
     "output_type": "stream",
     "text": [
      "100%|████████████████████████████████████████████████████████████████████████████████| 741/741 [00:10<00:00, 67.42it/s]\n"
     ]
    },
    {
     "name": "stdout",
     "output_type": "stream",
     "text": [
      "\n",
      "\n",
      "Calculating tuples confidence\n",
      "Adding tuples to seed with confidence >= 0.3\n",
      "==========================================\n",
      "\n",
      "Starting iteration 3\n",
      "\n",
      "519 tuples matched\n",
      "\n",
      "Clustering matched instances to generate patterns\n"
     ]
    },
    {
     "name": "stderr",
     "output_type": "stream",
     "text": [
      "100%|████████████████████████████████████████████████████████████████████████████████| 519/519 [00:08<00:00, 64.47it/s]\n"
     ]
    },
    {
     "name": "stdout",
     "output_type": "stream",
     "text": [
      "\n",
      "13 patterns generated\n",
      "Number of tuples to be analyzed: 741\n",
      "\n",
      "Collecting instances based on extraction patterns\n"
     ]
    },
    {
     "name": "stderr",
     "output_type": "stream",
     "text": [
      "100%|████████████████████████████████████████████████████████████████████████████████| 741/741 [00:14<00:00, 52.19it/s]\n"
     ]
    },
    {
     "name": "stdout",
     "output_type": "stream",
     "text": [
      "\n",
      "\n",
      "Calculating tuples confidence\n",
      "Adding tuples to seed with confidence >= 0.3\n",
      "==========================================\n",
      "\n",
      "Starting iteration 4\n",
      "\n",
      "566 tuples matched\n",
      "\n",
      "Clustering matched instances to generate patterns\n"
     ]
    },
    {
     "name": "stderr",
     "output_type": "stream",
     "text": [
      "100%|████████████████████████████████████████████████████████████████████████████████| 566/566 [00:10<00:00, 55.94it/s]\n"
     ]
    },
    {
     "name": "stdout",
     "output_type": "stream",
     "text": [
      "\n",
      "16 patterns generated\n",
      "Number of tuples to be analyzed: 741\n",
      "\n",
      "Collecting instances based on extraction patterns\n"
     ]
    },
    {
     "name": "stderr",
     "output_type": "stream",
     "text": [
      "100%|████████████████████████████████████████████████████████████████████████████████| 741/741 [00:14<00:00, 52.74it/s]\n"
     ]
    },
    {
     "name": "stdout",
     "output_type": "stream",
     "text": [
      "\n",
      "\n",
      "Calculating tuples confidence\n",
      "Adding tuples to seed with confidence >= 0.3\n",
      "==========================================\n",
      "\n",
      "Starting iteration 5\n",
      "\n",
      "593 tuples matched\n",
      "\n",
      "Clustering matched instances to generate patterns\n"
     ]
    },
    {
     "name": "stderr",
     "output_type": "stream",
     "text": [
      "100%|████████████████████████████████████████████████████████████████████████████████| 593/593 [00:11<00:00, 50.48it/s]\n"
     ]
    },
    {
     "name": "stdout",
     "output_type": "stream",
     "text": [
      "\n",
      "18 patterns generated\n",
      "Number of tuples to be analyzed: 741\n",
      "\n",
      "Collecting instances based on extraction patterns\n"
     ]
    },
    {
     "name": "stderr",
     "output_type": "stream",
     "text": [
      "100%|████████████████████████████████████████████████████████████████████████████████| 741/741 [00:15<00:00, 47.86it/s]\n"
     ]
    },
    {
     "name": "stdout",
     "output_type": "stream",
     "text": [
      "\n",
      "\n",
      "Calculating tuples confidence\n",
      "Adding tuples to seed with confidence >= 0.3\n",
      "==========================================\n",
      "\n",
      "Starting iteration 6\n",
      "\n",
      "599 tuples matched\n",
      "\n",
      "Clustering matched instances to generate patterns\n"
     ]
    },
    {
     "name": "stderr",
     "output_type": "stream",
     "text": [
      "100%|████████████████████████████████████████████████████████████████████████████████| 599/599 [00:12<00:00, 49.48it/s]\n"
     ]
    },
    {
     "name": "stdout",
     "output_type": "stream",
     "text": [
      "\n",
      "18 patterns generated\n",
      "Number of tuples to be analyzed: 741\n",
      "\n",
      "Collecting instances based on extraction patterns\n"
     ]
    },
    {
     "name": "stderr",
     "output_type": "stream",
     "text": [
      "100%|████████████████████████████████████████████████████████████████████████████████| 741/741 [00:16<00:00, 44.97it/s]\n"
     ]
    },
    {
     "name": "stdout",
     "output_type": "stream",
     "text": [
      "\n",
      "\n",
      "Calculating tuples confidence\n",
      "Adding tuples to seed with confidence >= 0.3\n",
      "\n",
      "Writing extracted relationships to disk\n",
      "==========================================\n",
      "\n",
      "Starting iteration 0\n",
      "\n",
      "27 tuples matched\n",
      "\n",
      "Clustering matched instances to generate patterns\n"
     ]
    },
    {
     "name": "stderr",
     "output_type": "stream",
     "text": [
      "100%|████████████████████████████████████████████████████████████████████████████████| 27/27 [00:00<00:00, 3006.67it/s]\n"
     ]
    },
    {
     "name": "stdout",
     "output_type": "stream",
     "text": [
      "\n",
      "1 patterns generated\n",
      "Number of tuples to be analyzed: 270\n",
      "\n",
      "Collecting instances based on extraction patterns\n"
     ]
    },
    {
     "name": "stderr",
     "output_type": "stream",
     "text": [
      "100%|██████████████████████████████████████████████████████████████████████████████| 270/270 [00:00<00:00, 3266.05it/s]\n"
     ]
    },
    {
     "name": "stdout",
     "output_type": "stream",
     "text": [
      "\n",
      "\n",
      "Calculating tuples confidence\n",
      "Adding tuples to seed with confidence >= 0.3\n",
      "==========================================\n",
      "\n",
      "Starting iteration 1\n",
      "\n",
      "100 tuples matched\n",
      "\n",
      "Clustering matched instances to generate patterns\n"
     ]
    },
    {
     "name": "stderr",
     "output_type": "stream",
     "text": [
      "100%|███████████████████████████████████████████████████████████████████████████████| 100/100 [00:00<00:00, 852.14it/s]\n"
     ]
    },
    {
     "name": "stdout",
     "output_type": "stream",
     "text": [
      "\n",
      "1 patterns generated\n",
      "Number of tuples to be analyzed: 270\n",
      "\n",
      "Collecting instances based on extraction patterns\n"
     ]
    },
    {
     "name": "stderr",
     "output_type": "stream",
     "text": [
      "100%|███████████████████████████████████████████████████████████████████████████████| 270/270 [00:00<00:00, 534.70it/s]\n"
     ]
    },
    {
     "name": "stdout",
     "output_type": "stream",
     "text": [
      "\n",
      "\n",
      "Calculating tuples confidence\n",
      "Adding tuples to seed with confidence >= 0.3\n",
      "==========================================\n",
      "\n",
      "Starting iteration 2\n",
      "\n",
      "156 tuples matched\n",
      "\n",
      "Clustering matched instances to generate patterns\n"
     ]
    },
    {
     "name": "stderr",
     "output_type": "stream",
     "text": [
      "100%|███████████████████████████████████████████████████████████████████████████████| 156/156 [00:00<00:00, 391.10it/s]\n"
     ]
    },
    {
     "name": "stdout",
     "output_type": "stream",
     "text": [
      "\n",
      "1 patterns generated\n",
      "Number of tuples to be analyzed: 270\n",
      "\n",
      "Collecting instances based on extraction patterns\n"
     ]
    },
    {
     "name": "stderr",
     "output_type": "stream",
     "text": [
      "100%|███████████████████████████████████████████████████████████████████████████████| 270/270 [00:01<00:00, 231.57it/s]\n"
     ]
    },
    {
     "name": "stdout",
     "output_type": "stream",
     "text": [
      "\n",
      "\n",
      "Calculating tuples confidence\n",
      "Adding tuples to seed with confidence >= 0.3\n",
      "==========================================\n",
      "\n",
      "Starting iteration 3\n",
      "\n",
      "170 tuples matched\n",
      "\n",
      "Clustering matched instances to generate patterns\n"
     ]
    },
    {
     "name": "stderr",
     "output_type": "stream",
     "text": [
      "100%|███████████████████████████████████████████████████████████████████████████████| 170/170 [00:01<00:00, 134.45it/s]\n"
     ]
    },
    {
     "name": "stdout",
     "output_type": "stream",
     "text": [
      "\n",
      "2 patterns generated\n",
      "Number of tuples to be analyzed: 270\n",
      "\n",
      "Collecting instances based on extraction patterns\n"
     ]
    },
    {
     "name": "stderr",
     "output_type": "stream",
     "text": [
      "100%|███████████████████████████████████████████████████████████████████████████████| 270/270 [00:01<00:00, 161.69it/s]\n"
     ]
    },
    {
     "name": "stdout",
     "output_type": "stream",
     "text": [
      "\n",
      "\n",
      "Calculating tuples confidence\n",
      "Adding tuples to seed with confidence >= 0.3\n",
      "==========================================\n",
      "\n",
      "Starting iteration 4\n",
      "\n",
      "187 tuples matched\n",
      "\n",
      "Clustering matched instances to generate patterns\n"
     ]
    },
    {
     "name": "stderr",
     "output_type": "stream",
     "text": [
      "100%|███████████████████████████████████████████████████████████████████████████████| 187/187 [00:00<00:00, 266.34it/s]\n"
     ]
    },
    {
     "name": "stdout",
     "output_type": "stream",
     "text": [
      "\n",
      "2 patterns generated\n",
      "Number of tuples to be analyzed: 270\n",
      "\n",
      "Collecting instances based on extraction patterns\n"
     ]
    },
    {
     "name": "stderr",
     "output_type": "stream",
     "text": [
      "100%|███████████████████████████████████████████████████████████████████████████████| 270/270 [00:01<00:00, 231.24it/s]\n"
     ]
    },
    {
     "name": "stdout",
     "output_type": "stream",
     "text": [
      "\n",
      "\n",
      "Calculating tuples confidence\n",
      "Adding tuples to seed with confidence >= 0.3\n",
      "==========================================\n",
      "\n",
      "Starting iteration 5\n",
      "\n",
      "199 tuples matched\n",
      "\n",
      "Clustering matched instances to generate patterns\n"
     ]
    },
    {
     "name": "stderr",
     "output_type": "stream",
     "text": [
      "100%|███████████████████████████████████████████████████████████████████████████████| 199/199 [00:01<00:00, 118.77it/s]\n"
     ]
    },
    {
     "name": "stdout",
     "output_type": "stream",
     "text": [
      "\n",
      "2 patterns generated\n",
      "Number of tuples to be analyzed: 270\n",
      "\n",
      "Collecting instances based on extraction patterns\n"
     ]
    },
    {
     "name": "stderr",
     "output_type": "stream",
     "text": [
      "100%|███████████████████████████████████████████████████████████████████████████████| 270/270 [00:02<00:00, 122.92it/s]\n"
     ]
    },
    {
     "name": "stdout",
     "output_type": "stream",
     "text": [
      "\n",
      "\n",
      "Calculating tuples confidence\n",
      "Adding tuples to seed with confidence >= 0.3\n",
      "==========================================\n",
      "\n",
      "Starting iteration 6\n",
      "\n",
      "199 tuples matched\n",
      "\n",
      "Clustering matched instances to generate patterns\n"
     ]
    },
    {
     "name": "stderr",
     "output_type": "stream",
     "text": [
      "100%|███████████████████████████████████████████████████████████████████████████████| 199/199 [00:00<00:00, 237.72it/s]\n"
     ]
    },
    {
     "name": "stdout",
     "output_type": "stream",
     "text": [
      "\n",
      "2 patterns generated\n",
      "Number of tuples to be analyzed: 270\n",
      "\n",
      "Collecting instances based on extraction patterns\n"
     ]
    },
    {
     "name": "stderr",
     "output_type": "stream",
     "text": [
      "100%|███████████████████████████████████████████████████████████████████████████████| 270/270 [00:01<00:00, 224.56it/s]\n"
     ]
    },
    {
     "name": "stdout",
     "output_type": "stream",
     "text": [
      "\n",
      "\n",
      "Calculating tuples confidence\n",
      "Adding tuples to seed with confidence >= 0.3\n",
      "\n",
      "Writing extracted relationships to disk\n",
      "==========================================\n",
      "\n",
      "Starting iteration 0\n",
      "\n",
      "52 tuples matched\n",
      "\n",
      "Clustering matched instances to generate patterns\n"
     ]
    },
    {
     "name": "stderr",
     "output_type": "stream",
     "text": [
      "100%|█████████████████████████████████████████████████████████████████████████████████| 52/52 [00:00<00:00, 688.31it/s]\n"
     ]
    },
    {
     "name": "stdout",
     "output_type": "stream",
     "text": [
      "\n",
      "3 patterns generated\n",
      "Number of tuples to be analyzed: 518\n",
      "\n",
      "Collecting instances based on extraction patterns\n"
     ]
    },
    {
     "name": "stderr",
     "output_type": "stream",
     "text": [
      "100%|███████████████████████████████████████████████████████████████████████████████| 518/518 [00:00<00:00, 559.36it/s]\n"
     ]
    },
    {
     "name": "stdout",
     "output_type": "stream",
     "text": [
      "\n",
      "\n",
      "Calculating tuples confidence\n",
      "Adding tuples to seed with confidence >= 0.3\n",
      "==========================================\n",
      "\n",
      "Starting iteration 1\n",
      "\n",
      "52 tuples matched\n",
      "\n",
      "Clustering matched instances to generate patterns\n"
     ]
    },
    {
     "name": "stderr",
     "output_type": "stream",
     "text": [
      "100%|█████████████████████████████████████████████████████████████████████████████████| 52/52 [00:00<00:00, 479.08it/s]\n"
     ]
    },
    {
     "name": "stdout",
     "output_type": "stream",
     "text": [
      "\n",
      "3 patterns generated\n",
      "Number of tuples to be analyzed: 518\n",
      "\n",
      "Collecting instances based on extraction patterns\n"
     ]
    },
    {
     "name": "stderr",
     "output_type": "stream",
     "text": [
      "100%|███████████████████████████████████████████████████████████████████████████████| 518/518 [00:01<00:00, 484.48it/s]\n"
     ]
    },
    {
     "name": "stdout",
     "output_type": "stream",
     "text": [
      "\n",
      "\n",
      "Calculating tuples confidence\n",
      "Adding tuples to seed with confidence >= 0.3\n",
      "==========================================\n",
      "\n",
      "Starting iteration 2\n",
      "\n",
      "52 tuples matched\n",
      "\n",
      "Clustering matched instances to generate patterns\n"
     ]
    },
    {
     "name": "stderr",
     "output_type": "stream",
     "text": [
      "100%|█████████████████████████████████████████████████████████████████████████████████| 52/52 [00:00<00:00, 474.46it/s]\n"
     ]
    },
    {
     "name": "stdout",
     "output_type": "stream",
     "text": [
      "\n",
      "3 patterns generated\n",
      "Number of tuples to be analyzed: 518\n",
      "\n",
      "Collecting instances based on extraction patterns\n"
     ]
    },
    {
     "name": "stderr",
     "output_type": "stream",
     "text": [
      "100%|███████████████████████████████████████████████████████████████████████████████| 518/518 [00:00<00:00, 602.92it/s]\n"
     ]
    },
    {
     "name": "stdout",
     "output_type": "stream",
     "text": [
      "\n",
      "\n",
      "Calculating tuples confidence\n",
      "Adding tuples to seed with confidence >= 0.3\n",
      "==========================================\n",
      "\n",
      "Starting iteration 3\n",
      "\n",
      "52 tuples matched\n",
      "\n",
      "Clustering matched instances to generate patterns\n"
     ]
    },
    {
     "name": "stderr",
     "output_type": "stream",
     "text": [
      "100%|█████████████████████████████████████████████████████████████████████████████████| 52/52 [00:00<00:00, 492.77it/s]\n"
     ]
    },
    {
     "name": "stdout",
     "output_type": "stream",
     "text": [
      "\n",
      "3 patterns generated\n",
      "Number of tuples to be analyzed: 518\n",
      "\n",
      "Collecting instances based on extraction patterns\n"
     ]
    },
    {
     "name": "stderr",
     "output_type": "stream",
     "text": [
      "100%|██████████████████████████████████████████████████████████████████████████████| 518/518 [00:00<00:00, 1234.33it/s]\n"
     ]
    },
    {
     "name": "stdout",
     "output_type": "stream",
     "text": [
      "\n",
      "\n",
      "Calculating tuples confidence\n",
      "Adding tuples to seed with confidence >= 0.3\n",
      "==========================================\n",
      "\n",
      "Starting iteration 4\n",
      "\n",
      "52 tuples matched\n",
      "\n",
      "Clustering matched instances to generate patterns\n"
     ]
    },
    {
     "name": "stderr",
     "output_type": "stream",
     "text": [
      "100%|█████████████████████████████████████████████████████████████████████████████████| 52/52 [00:00<00:00, 818.43it/s]\n"
     ]
    },
    {
     "name": "stdout",
     "output_type": "stream",
     "text": [
      "\n",
      "3 patterns generated\n",
      "Number of tuples to be analyzed: 518\n",
      "\n",
      "Collecting instances based on extraction patterns\n"
     ]
    },
    {
     "name": "stderr",
     "output_type": "stream",
     "text": [
      "100%|██████████████████████████████████████████████████████████████████████████████| 518/518 [00:00<00:00, 1265.72it/s]\n"
     ]
    },
    {
     "name": "stdout",
     "output_type": "stream",
     "text": [
      "\n",
      "\n",
      "Calculating tuples confidence\n",
      "Adding tuples to seed with confidence >= 0.3\n",
      "==========================================\n",
      "\n",
      "Starting iteration 5\n",
      "\n",
      "52 tuples matched\n",
      "\n",
      "Clustering matched instances to generate patterns\n"
     ]
    },
    {
     "name": "stderr",
     "output_type": "stream",
     "text": [
      "100%|█████████████████████████████████████████████████████████████████████████████████| 52/52 [00:00<00:00, 757.59it/s]\n"
     ]
    },
    {
     "name": "stdout",
     "output_type": "stream",
     "text": [
      "\n",
      "3 patterns generated\n",
      "Number of tuples to be analyzed: 518\n",
      "\n",
      "Collecting instances based on extraction patterns\n"
     ]
    },
    {
     "name": "stderr",
     "output_type": "stream",
     "text": [
      "100%|██████████████████████████████████████████████████████████████████████████████| 518/518 [00:00<00:00, 1351.89it/s]\n"
     ]
    },
    {
     "name": "stdout",
     "output_type": "stream",
     "text": [
      "\n",
      "\n",
      "Calculating tuples confidence\n",
      "Adding tuples to seed with confidence >= 0.3\n",
      "==========================================\n",
      "\n",
      "Starting iteration 6\n",
      "\n",
      "52 tuples matched\n",
      "\n",
      "Clustering matched instances to generate patterns\n"
     ]
    },
    {
     "name": "stderr",
     "output_type": "stream",
     "text": [
      "100%|████████████████████████████████████████████████████████████████████████████████| 52/52 [00:00<00:00, 1082.42it/s]\n"
     ]
    },
    {
     "name": "stdout",
     "output_type": "stream",
     "text": [
      "\n",
      "3 patterns generated\n",
      "Number of tuples to be analyzed: 518\n",
      "\n",
      "Collecting instances based on extraction patterns\n"
     ]
    },
    {
     "name": "stderr",
     "output_type": "stream",
     "text": [
      "100%|██████████████████████████████████████████████████████████████████████████████| 518/518 [00:00<00:00, 1062.00it/s]\n"
     ]
    },
    {
     "name": "stdout",
     "output_type": "stream",
     "text": [
      "\n",
      "\n",
      "Calculating tuples confidence\n",
      "Adding tuples to seed with confidence >= 0.3\n",
      "\n",
      "Writing extracted relationships to disk\n",
      "==========================================\n",
      "\n",
      "Starting iteration 0\n",
      "\n",
      "44 tuples matched\n",
      "\n",
      "Clustering matched instances to generate patterns\n"
     ]
    },
    {
     "name": "stderr",
     "output_type": "stream",
     "text": [
      "100%|████████████████████████████████████████████████████████████████████████████████| 44/44 [00:00<00:00, 1417.60it/s]\n"
     ]
    },
    {
     "name": "stdout",
     "output_type": "stream",
     "text": [
      "\n",
      "3 patterns generated\n",
      "Number of tuples to be analyzed: 419\n",
      "\n",
      "Collecting instances based on extraction patterns\n"
     ]
    },
    {
     "name": "stderr",
     "output_type": "stream",
     "text": [
      "100%|███████████████████████████████████████████████████████████████████████████████| 419/419 [00:00<00:00, 918.69it/s]\n"
     ]
    },
    {
     "name": "stdout",
     "output_type": "stream",
     "text": [
      "\n",
      "\n",
      "Calculating tuples confidence\n",
      "Adding tuples to seed with confidence >= 0.3\n",
      "==========================================\n",
      "\n",
      "Starting iteration 1\n",
      "\n",
      "56 tuples matched\n",
      "\n",
      "Clustering matched instances to generate patterns\n"
     ]
    },
    {
     "name": "stderr",
     "output_type": "stream",
     "text": [
      "100%|█████████████████████████████████████████████████████████████████████████████████| 56/56 [00:00<00:00, 310.94it/s]\n"
     ]
    },
    {
     "name": "stdout",
     "output_type": "stream",
     "text": [
      "\n",
      "3 patterns generated\n",
      "Number of tuples to be analyzed: 419\n",
      "\n",
      "Collecting instances based on extraction patterns\n"
     ]
    },
    {
     "name": "stderr",
     "output_type": "stream",
     "text": [
      "100%|███████████████████████████████████████████████████████████████████████████████| 419/419 [00:01<00:00, 344.78it/s]\n"
     ]
    },
    {
     "name": "stdout",
     "output_type": "stream",
     "text": [
      "\n",
      "\n",
      "Calculating tuples confidence\n",
      "Adding tuples to seed with confidence >= 0.3\n",
      "==========================================\n",
      "\n",
      "Starting iteration 2\n",
      "\n",
      "77 tuples matched\n",
      "\n",
      "Clustering matched instances to generate patterns\n"
     ]
    },
    {
     "name": "stderr",
     "output_type": "stream",
     "text": [
      "100%|█████████████████████████████████████████████████████████████████████████████████| 77/77 [00:00<00:00, 271.21it/s]\n"
     ]
    },
    {
     "name": "stdout",
     "output_type": "stream",
     "text": [
      "\n",
      "3 patterns generated\n",
      "Number of tuples to be analyzed: 419\n",
      "\n",
      "Collecting instances based on extraction patterns\n"
     ]
    },
    {
     "name": "stderr",
     "output_type": "stream",
     "text": [
      "100%|███████████████████████████████████████████████████████████████████████████████| 419/419 [00:01<00:00, 269.90it/s]\n"
     ]
    },
    {
     "name": "stdout",
     "output_type": "stream",
     "text": [
      "\n",
      "\n",
      "Calculating tuples confidence\n",
      "Adding tuples to seed with confidence >= 0.3\n",
      "==========================================\n",
      "\n",
      "Starting iteration 3\n",
      "\n",
      "95 tuples matched\n",
      "\n",
      "Clustering matched instances to generate patterns\n"
     ]
    },
    {
     "name": "stderr",
     "output_type": "stream",
     "text": [
      "100%|█████████████████████████████████████████████████████████████████████████████████| 95/95 [00:00<00:00, 519.05it/s]\n"
     ]
    },
    {
     "name": "stdout",
     "output_type": "stream",
     "text": [
      "\n",
      "3 patterns generated\n",
      "Number of tuples to be analyzed: 419\n",
      "\n",
      "Collecting instances based on extraction patterns\n"
     ]
    },
    {
     "name": "stderr",
     "output_type": "stream",
     "text": [
      "100%|███████████████████████████████████████████████████████████████████████████████| 419/419 [00:00<00:00, 451.77it/s]\n"
     ]
    },
    {
     "name": "stdout",
     "output_type": "stream",
     "text": [
      "\n",
      "\n",
      "Calculating tuples confidence\n",
      "Adding tuples to seed with confidence >= 0.3\n",
      "==========================================\n",
      "\n",
      "Starting iteration 4\n",
      "\n",
      "151 tuples matched\n",
      "\n",
      "Clustering matched instances to generate patterns\n"
     ]
    },
    {
     "name": "stderr",
     "output_type": "stream",
     "text": [
      "100%|███████████████████████████████████████████████████████████████████████████████| 151/151 [00:00<00:00, 383.66it/s]\n"
     ]
    },
    {
     "name": "stdout",
     "output_type": "stream",
     "text": [
      "\n",
      "5 patterns generated\n",
      "Number of tuples to be analyzed: 419\n",
      "\n",
      "Collecting instances based on extraction patterns\n"
     ]
    },
    {
     "name": "stderr",
     "output_type": "stream",
     "text": [
      "100%|███████████████████████████████████████████████████████████████████████████████| 419/419 [00:02<00:00, 206.43it/s]\n"
     ]
    },
    {
     "name": "stdout",
     "output_type": "stream",
     "text": [
      "\n",
      "\n",
      "Calculating tuples confidence\n",
      "Adding tuples to seed with confidence >= 0.3\n",
      "==========================================\n",
      "\n",
      "Starting iteration 5\n",
      "\n",
      "208 tuples matched\n",
      "\n",
      "Clustering matched instances to generate patterns\n"
     ]
    },
    {
     "name": "stderr",
     "output_type": "stream",
     "text": [
      "100%|███████████████████████████████████████████████████████████████████████████████| 208/208 [00:01<00:00, 109.81it/s]\n"
     ]
    },
    {
     "name": "stdout",
     "output_type": "stream",
     "text": [
      "\n",
      "6 patterns generated\n",
      "Number of tuples to be analyzed: 419\n",
      "\n",
      "Collecting instances based on extraction patterns\n"
     ]
    },
    {
     "name": "stderr",
     "output_type": "stream",
     "text": [
      "100%|███████████████████████████████████████████████████████████████████████████████| 419/419 [00:02<00:00, 196.80it/s]\n"
     ]
    },
    {
     "name": "stdout",
     "output_type": "stream",
     "text": [
      "\n",
      "\n",
      "Calculating tuples confidence\n",
      "Adding tuples to seed with confidence >= 0.3\n",
      "==========================================\n",
      "\n",
      "Starting iteration 6\n",
      "\n",
      "256 tuples matched\n",
      "\n",
      "Clustering matched instances to generate patterns\n"
     ]
    },
    {
     "name": "stderr",
     "output_type": "stream",
     "text": [
      "100%|████████████████████████████████████████████████████████████████████████████████| 256/256 [00:02<00:00, 98.08it/s]\n"
     ]
    },
    {
     "name": "stdout",
     "output_type": "stream",
     "text": [
      "\n",
      "7 patterns generated\n",
      "Number of tuples to be analyzed: 419\n",
      "\n",
      "Collecting instances based on extraction patterns\n"
     ]
    },
    {
     "name": "stderr",
     "output_type": "stream",
     "text": [
      "100%|███████████████████████████████████████████████████████████████████████████████| 419/419 [00:03<00:00, 127.06it/s]\n"
     ]
    },
    {
     "name": "stdout",
     "output_type": "stream",
     "text": [
      "\n",
      "\n",
      "Calculating tuples confidence\n",
      "Adding tuples to seed with confidence >= 0.3\n",
      "\n",
      "Writing extracted relationships to disk\n",
      "==========================================\n",
      "\n",
      "Starting iteration 0\n",
      "\n",
      "42 tuples matched\n",
      "\n",
      "Clustering matched instances to generate patterns\n"
     ]
    },
    {
     "name": "stderr",
     "output_type": "stream",
     "text": [
      "100%|████████████████████████████████████████████████████████████████████████████████| 42/42 [00:00<00:00, 2259.02it/s]\n"
     ]
    },
    {
     "name": "stdout",
     "output_type": "stream",
     "text": [
      "\n",
      "3 patterns generated\n",
      "Number of tuples to be analyzed: 424\n",
      "\n",
      "Collecting instances based on extraction patterns\n"
     ]
    },
    {
     "name": "stderr",
     "output_type": "stream",
     "text": [
      "100%|██████████████████████████████████████████████████████████████████████████████| 424/424 [00:00<00:00, 2193.07it/s]\n"
     ]
    },
    {
     "name": "stdout",
     "output_type": "stream",
     "text": [
      "\n",
      "\n",
      "Calculating tuples confidence\n",
      "Adding tuples to seed with confidence >= 0.3\n",
      "==========================================\n",
      "\n",
      "Starting iteration 1\n",
      "\n",
      "74 tuples matched\n",
      "\n",
      "Clustering matched instances to generate patterns\n"
     ]
    },
    {
     "name": "stderr",
     "output_type": "stream",
     "text": [
      "100%|█████████████████████████████████████████████████████████████████████████████████| 74/74 [00:00<00:00, 475.64it/s]\n"
     ]
    },
    {
     "name": "stdout",
     "output_type": "stream",
     "text": [
      "\n",
      "3 patterns generated\n",
      "Number of tuples to be analyzed: 424\n",
      "\n",
      "Collecting instances based on extraction patterns\n"
     ]
    },
    {
     "name": "stderr",
     "output_type": "stream",
     "text": [
      "100%|███████████████████████████████████████████████████████████████████████████████| 424/424 [00:01<00:00, 359.99it/s]\n"
     ]
    },
    {
     "name": "stdout",
     "output_type": "stream",
     "text": [
      "\n",
      "\n",
      "Calculating tuples confidence\n",
      "Adding tuples to seed with confidence >= 0.3\n",
      "==========================================\n",
      "\n",
      "Starting iteration 2\n",
      "\n",
      "116 tuples matched\n",
      "\n",
      "Clustering matched instances to generate patterns\n"
     ]
    },
    {
     "name": "stderr",
     "output_type": "stream",
     "text": [
      "100%|███████████████████████████████████████████████████████████████████████████████| 116/116 [00:00<00:00, 222.13it/s]\n"
     ]
    },
    {
     "name": "stdout",
     "output_type": "stream",
     "text": [
      "\n",
      "5 patterns generated\n",
      "Number of tuples to be analyzed: 424\n",
      "\n",
      "Collecting instances based on extraction patterns\n"
     ]
    },
    {
     "name": "stderr",
     "output_type": "stream",
     "text": [
      "100%|███████████████████████████████████████████████████████████████████████████████| 424/424 [00:01<00:00, 260.28it/s]\n"
     ]
    },
    {
     "name": "stdout",
     "output_type": "stream",
     "text": [
      "\n",
      "\n",
      "Calculating tuples confidence\n",
      "Adding tuples to seed with confidence >= 0.3\n",
      "==========================================\n",
      "\n",
      "Starting iteration 3\n",
      "\n",
      "142 tuples matched\n",
      "\n",
      "Clustering matched instances to generate patterns\n"
     ]
    },
    {
     "name": "stderr",
     "output_type": "stream",
     "text": [
      "100%|███████████████████████████████████████████████████████████████████████████████| 142/142 [00:00<00:00, 364.66it/s]\n"
     ]
    },
    {
     "name": "stdout",
     "output_type": "stream",
     "text": [
      "\n",
      "7 patterns generated\n",
      "Number of tuples to be analyzed: 424\n",
      "\n",
      "Collecting instances based on extraction patterns\n"
     ]
    },
    {
     "name": "stderr",
     "output_type": "stream",
     "text": [
      "100%|███████████████████████████████████████████████████████████████████████████████| 424/424 [00:01<00:00, 413.96it/s]\n"
     ]
    },
    {
     "name": "stdout",
     "output_type": "stream",
     "text": [
      "\n",
      "\n",
      "Calculating tuples confidence\n",
      "Adding tuples to seed with confidence >= 0.3\n",
      "==========================================\n",
      "\n",
      "Starting iteration 4\n",
      "\n",
      "154 tuples matched\n",
      "\n",
      "Clustering matched instances to generate patterns\n"
     ]
    },
    {
     "name": "stderr",
     "output_type": "stream",
     "text": [
      "100%|███████████████████████████████████████████████████████████████████████████████| 154/154 [00:00<00:00, 338.27it/s]\n"
     ]
    },
    {
     "name": "stdout",
     "output_type": "stream",
     "text": [
      "\n",
      "8 patterns generated\n",
      "Number of tuples to be analyzed: 424\n",
      "\n",
      "Collecting instances based on extraction patterns\n"
     ]
    },
    {
     "name": "stderr",
     "output_type": "stream",
     "text": [
      "100%|███████████████████████████████████████████████████████████████████████████████| 424/424 [00:02<00:00, 167.21it/s]\n"
     ]
    },
    {
     "name": "stdout",
     "output_type": "stream",
     "text": [
      "\n",
      "\n",
      "Calculating tuples confidence\n",
      "Adding tuples to seed with confidence >= 0.3\n",
      "==========================================\n",
      "\n",
      "Starting iteration 5\n",
      "\n",
      "168 tuples matched\n",
      "\n",
      "Clustering matched instances to generate patterns\n"
     ]
    },
    {
     "name": "stderr",
     "output_type": "stream",
     "text": [
      "100%|███████████████████████████████████████████████████████████████████████████████| 168/168 [00:01<00:00, 148.23it/s]\n"
     ]
    },
    {
     "name": "stdout",
     "output_type": "stream",
     "text": [
      "\n",
      "10 patterns generated\n",
      "Number of tuples to be analyzed: 424\n",
      "\n",
      "Collecting instances based on extraction patterns\n"
     ]
    },
    {
     "name": "stderr",
     "output_type": "stream",
     "text": [
      "100%|███████████████████████████████████████████████████████████████████████████████| 424/424 [00:01<00:00, 330.41it/s]\n"
     ]
    },
    {
     "name": "stdout",
     "output_type": "stream",
     "text": [
      "\n",
      "\n",
      "Calculating tuples confidence\n",
      "Adding tuples to seed with confidence >= 0.3\n",
      "==========================================\n",
      "\n",
      "Starting iteration 6\n",
      "\n",
      "181 tuples matched\n",
      "\n",
      "Clustering matched instances to generate patterns\n"
     ]
    },
    {
     "name": "stderr",
     "output_type": "stream",
     "text": [
      "100%|███████████████████████████████████████████████████████████████████████████████| 181/181 [00:00<00:00, 268.03it/s]\n"
     ]
    },
    {
     "name": "stdout",
     "output_type": "stream",
     "text": [
      "\n",
      "11 patterns generated\n",
      "Number of tuples to be analyzed: 424\n",
      "\n",
      "Collecting instances based on extraction patterns\n"
     ]
    },
    {
     "name": "stderr",
     "output_type": "stream",
     "text": [
      "100%|███████████████████████████████████████████████████████████████████████████████| 424/424 [00:02<00:00, 155.57it/s]\n"
     ]
    },
    {
     "name": "stdout",
     "output_type": "stream",
     "text": [
      "\n",
      "\n",
      "Calculating tuples confidence\n",
      "Adding tuples to seed with confidence >= 0.3\n",
      "\n",
      "Writing extracted relationships to disk\n",
      "==========================================\n",
      "\n",
      "Starting iteration 0\n",
      "\n",
      "68 tuples matched\n",
      "\n",
      "Clustering matched instances to generate patterns\n"
     ]
    },
    {
     "name": "stderr",
     "output_type": "stream",
     "text": [
      "100%|████████████████████████████████████████████████████████████████████████████████| 68/68 [00:00<00:00, 1387.73it/s]\n"
     ]
    },
    {
     "name": "stdout",
     "output_type": "stream",
     "text": [
      "\n",
      "5 patterns generated\n",
      "Number of tuples to be analyzed: 628\n",
      "\n",
      "Collecting instances based on extraction patterns\n"
     ]
    },
    {
     "name": "stderr",
     "output_type": "stream",
     "text": [
      "100%|███████████████████████████████████████████████████████████████████████████████| 628/628 [00:00<00:00, 920.54it/s]\n"
     ]
    },
    {
     "name": "stdout",
     "output_type": "stream",
     "text": [
      "\n",
      "\n",
      "Calculating tuples confidence\n",
      "Adding tuples to seed with confidence >= 0.3\n",
      "==========================================\n",
      "\n",
      "Starting iteration 1\n",
      "\n",
      "352 tuples matched\n",
      "\n",
      "Clustering matched instances to generate patterns\n"
     ]
    },
    {
     "name": "stderr",
     "output_type": "stream",
     "text": [
      "100%|███████████████████████████████████████████████████████████████████████████████| 352/352 [00:02<00:00, 173.78it/s]\n"
     ]
    },
    {
     "name": "stdout",
     "output_type": "stream",
     "text": [
      "\n",
      "7 patterns generated\n",
      "Number of tuples to be analyzed: 628\n",
      "\n",
      "Collecting instances based on extraction patterns\n"
     ]
    },
    {
     "name": "stderr",
     "output_type": "stream",
     "text": [
      "100%|████████████████████████████████████████████████████████████████████████████████| 628/628 [00:07<00:00, 82.59it/s]\n"
     ]
    },
    {
     "name": "stdout",
     "output_type": "stream",
     "text": [
      "\n",
      "\n",
      "Calculating tuples confidence\n",
      "Adding tuples to seed with confidence >= 0.3\n",
      "==========================================\n",
      "\n",
      "Starting iteration 2\n",
      "\n",
      "463 tuples matched\n",
      "\n",
      "Clustering matched instances to generate patterns\n"
     ]
    },
    {
     "name": "stderr",
     "output_type": "stream",
     "text": [
      "100%|████████████████████████████████████████████████████████████████████████████████| 463/463 [00:05<00:00, 79.73it/s]\n"
     ]
    },
    {
     "name": "stdout",
     "output_type": "stream",
     "text": [
      "\n",
      "11 patterns generated\n",
      "Number of tuples to be analyzed: 628\n",
      "\n",
      "Collecting instances based on extraction patterns\n"
     ]
    },
    {
     "name": "stderr",
     "output_type": "stream",
     "text": [
      "100%|████████████████████████████████████████████████████████████████████████████████| 628/628 [00:09<00:00, 67.85it/s]\n"
     ]
    },
    {
     "name": "stdout",
     "output_type": "stream",
     "text": [
      "\n",
      "\n",
      "Calculating tuples confidence\n",
      "Adding tuples to seed with confidence >= 0.3\n",
      "==========================================\n",
      "\n",
      "Starting iteration 3\n",
      "\n",
      "498 tuples matched\n",
      "\n",
      "Clustering matched instances to generate patterns\n"
     ]
    },
    {
     "name": "stderr",
     "output_type": "stream",
     "text": [
      "100%|████████████████████████████████████████████████████████████████████████████████| 498/498 [00:07<00:00, 65.67it/s]\n"
     ]
    },
    {
     "name": "stdout",
     "output_type": "stream",
     "text": [
      "\n",
      "13 patterns generated\n",
      "Number of tuples to be analyzed: 628\n",
      "\n",
      "Collecting instances based on extraction patterns\n"
     ]
    },
    {
     "name": "stderr",
     "output_type": "stream",
     "text": [
      "100%|████████████████████████████████████████████████████████████████████████████████| 628/628 [00:10<00:00, 61.88it/s]\n"
     ]
    },
    {
     "name": "stdout",
     "output_type": "stream",
     "text": [
      "\n",
      "\n",
      "Calculating tuples confidence\n",
      "Adding tuples to seed with confidence >= 0.3\n",
      "==========================================\n",
      "\n",
      "Starting iteration 4\n",
      "\n",
      "516 tuples matched\n",
      "\n",
      "Clustering matched instances to generate patterns\n"
     ]
    },
    {
     "name": "stderr",
     "output_type": "stream",
     "text": [
      "100%|████████████████████████████████████████████████████████████████████████████████| 516/516 [00:09<00:00, 55.46it/s]\n"
     ]
    },
    {
     "name": "stdout",
     "output_type": "stream",
     "text": [
      "\n",
      "15 patterns generated\n",
      "Number of tuples to be analyzed: 628\n",
      "\n",
      "Collecting instances based on extraction patterns\n"
     ]
    },
    {
     "name": "stderr",
     "output_type": "stream",
     "text": [
      "100%|████████████████████████████████████████████████████████████████████████████████| 628/628 [00:11<00:00, 56.12it/s]\n"
     ]
    },
    {
     "name": "stdout",
     "output_type": "stream",
     "text": [
      "\n",
      "\n",
      "Calculating tuples confidence\n",
      "Adding tuples to seed with confidence >= 0.3\n",
      "==========================================\n",
      "\n",
      "Starting iteration 5\n",
      "\n",
      "517 tuples matched\n",
      "\n",
      "Clustering matched instances to generate patterns\n"
     ]
    },
    {
     "name": "stderr",
     "output_type": "stream",
     "text": [
      " 46%|████████████████████████████████████▌                                           | 236/517 [00:04<00:07, 38.83it/s]"
     ]
    }
   ],
   "source": [
    "# Training phase\n",
    "from breds.bootstrapping import BREDS\n",
    "from breds.test import BREDS as test_BREDS\n",
    "similarity = [0.3,0.6,0.8]\n",
    "confidence = [0.3,0.6,0.8]\n",
    "iterations = [6,9]\n",
    "for iter in iterations:\n",
    "    for sim in similarity:\n",
    "        for conf in confidence:\n",
    "            breads: BREDS\n",
    "            breads = BREDS(\n",
    "                        \"afp_apw_xin_embeddings.bin\",\n",
    "                        sim,\n",
    "                        conf,\n",
    "                        iter,\n",
    "                        0.0,\n",
    "                        1.0,\n",
    "                        0.0\n",
    "                    )\n",
    "            # breads.read_train_file('TRAIN_FILE.txt')\n",
    "            breads.generate_tuples()\n",
    "            breads.init_bootstrap()\n",
    "            breads.training_accuracy()\n",
    "\n",
    "            test_breads: test_BREDS\n",
    "            test_breads = test_BREDS(\n",
    "                        \"afp_apw_xin_embeddings.bin\",\n",
    "                 )\n",
    "            test_breads.load_model(\"model.pkl\")\n",
    "            # test_breads.read_test_file('TEST_FILE.txt')\n",
    "            test_breads.init_testing()\n",
    "            test_breads.evaluate_test_set()"
   ]
  },
  {
   "cell_type": "code",
   "execution_count": 1,
   "id": "4b7db6be-7f11-4846-afde-2974fec7a000",
   "metadata": {},
   "outputs": [
    {
     "name": "stderr",
     "output_type": "stream",
     "text": [
      "[nltk_data] Downloading package stopwords to\n",
      "[nltk_data]     C:\\Users\\Shano\\AppData\\Roaming\\nltk_data...\n",
      "[nltk_data]   Package stopwords is already up-to-date!\n",
      "[nltk_data] Downloading package maxent_treebank_pos_tagger to\n",
      "[nltk_data]     C:\\Users\\Shano\\AppData\\Roaming\\nltk_data...\n",
      "[nltk_data]   Package maxent_treebank_pos_tagger is already up-to-\n",
      "[nltk_data]       date!\n"
     ]
    },
    {
     "name": "stdout",
     "output_type": "stream",
     "text": [
      "Loading word2vec model ...\n",
      "\n",
      "The word2vec mode has  200 dimensions\n",
      "\n",
      "Loading model from disk...\n",
      "Reading the  TEST_FILE.txt ...\n",
      "Writing extracted sentences to sentences_test file...\n",
      "\\Testing input sentences\n",
      "Relation\t\tPrecision\t\tRecall\t\tF1\n",
      "\n",
      "MESSAGE_TOPIC \t 0.5697674418604651 \t 0.26063829787234044 \t 0.35766423357664234 \n",
      "\n",
      "PRODUCER_PRODUCT \t 0.20689655172413793 \t 0.10344827586206896 \t 0.13793103448275862 \n",
      "\n",
      "AGENCY_INSTRUMENT \t 0.27111111111111114 \t 0.49193548387096775 \t 0.3495702005730659 \n",
      "\n",
      "ENTITY_DESTINATION \t 0.3256484149855908 \t 0.5113122171945701 \t 0.397887323943662 \n",
      "\n",
      "EFFECT_CAUSE \t 0.6853932584269663 \t 0.7672955974842768 \t 0.7240356083086055 \n",
      "\n",
      "COMPONENT_WHOLE \t 0.1 \t 0.10909090909090909 \t 0.10434782608695652 \n",
      "\n",
      "PRODUCT_PRODUCER \t 0.25 \t 0.08641975308641975 \t 0.12844036697247707 \n",
      "\n",
      "COLLECTION_MEMBER \t 0.1 \t 0.036036036036036036 \t 0.052980132450331126 \n",
      "\n",
      "OTHER_OTHER \t 1.0 \t 1.0 \t 1.0 \n",
      "\n",
      "ENTITY_ORIGIN \t 0.3829787234042553 \t 0.19148936170212766 \t 0.2553191489361702 \n",
      "\n",
      "CONTENT_CONTAINER \t 0.3888888888888889 \t 0.38461538461538464 \t 0.3867403314917128 \n",
      "\n",
      "ORIGIN_ENTITY \t 0.3333333333333333 \t 0.1 \t 0.15384615384615383 \n",
      "\n",
      "CAUSE_EFFECT \t 0.552 \t 0.518796992481203 \t 0.5348837209302326 \n",
      "\n",
      "WHOLE_COMPONENT \t 0.17467248908296942 \t 0.40404040404040403 \t 0.2439024390243902 \n",
      "\n",
      "CONTAINER_CONTENT \t 0.0 \t 0.0 \t 0 \n",
      "\n",
      "INSTRUMENT_AGENCY \t 0.2857142857142857 \t 0.125 \t 0.17391304347826086 \n",
      "\n",
      "TOPIC_MESSAGE \t 0.3235294117647059 \t 0.4489795918367347 \t 0.3760683760683761 \n",
      "\n",
      "MEMBER_COLLECTION \t 0.13513513513513514 \t 0.2777777777777778 \t 0.18181818181818182 \n",
      "\n",
      "DESTINATION_ENTITY \t 0 \t 0.0 \t 0 \n",
      "\n",
      "Total\t 0.6323103647944412 \t 0.36473291211947156 \t 0.4626166307016072 \n",
      "\n"
     ]
    }
   ],
   "source": [
    "# Testing phase\n",
    "from breds.test import BREDS as test_BREDS\n",
    "test_breads: test_BREDS\n",
    "test_breads = test_BREDS(\n",
    "            \"afp_apw_xin_embeddings.bin\",\n",
    "     )\n",
    "test_breads.load_model(\"model.pkl\")\n",
    "test_breads.read_test_file('TEST_FILE.txt')\n",
    "test_breads.init_testing()\n",
    "test_breads.evaluate_test_set()"
   ]
  },
  {
   "cell_type": "code",
   "execution_count": 1,
   "id": "3cb3554f-ae4e-40a9-a243-edb65ac802b3",
   "metadata": {},
   "outputs": [
    {
     "name": "stderr",
     "output_type": "stream",
     "text": [
      "[nltk_data] Downloading package stopwords to\n",
      "[nltk_data]     C:\\Users\\Shano\\AppData\\Roaming\\nltk_data...\n",
      "[nltk_data]   Package stopwords is already up-to-date!\n",
      "[nltk_data] Downloading package maxent_treebank_pos_tagger to\n",
      "[nltk_data]     C:\\Users\\Shano\\AppData\\Roaming\\nltk_data...\n",
      "[nltk_data]   Package maxent_treebank_pos_tagger is already up-to-\n",
      "[nltk_data]       date!\n"
     ]
    },
    {
     "name": "stdout",
     "output_type": "stream",
     "text": [
      "Loading word2vec model ...\n",
      "\n",
      "The word2vec mode has  200 dimensions\n",
      "\n",
      "Loading model from disk...\n",
      "The relation extracted from the sentence is : EFFECT_CAUSE\n"
     ]
    }
   ],
   "source": [
    "# test_sentence = \"<CAUSE>Acne</CAUSE> is born by <EFFECT>stress</EFFECT>.\"\n",
    "\n",
    "# tpl=breads.test_tuple_extraction(test_sentence)\n",
    "# breads.test_tuple_pattern(tpl)\n",
    "\n",
    "from breds.test import BREDS as test_BREDS\n",
    "test_breads: test_BREDS\n",
    "test_breads = test_BREDS(\"afp_apw_xin_embeddings.bin\")\n",
    "sentence = \"<e1>Acne</e1> is caused by <e2>stress</e2>.\"\n",
    "test_breads.load_model(\"model.pkl\")\n",
    "test_breads.test_user_input(sentence)"
   ]
  },
  {
   "cell_type": "code",
   "execution_count": null,
   "id": "e143ac31-78e1-4f55-846e-17bca5110d89",
   "metadata": {},
   "outputs": [
    {
     "name": "stdout",
     "output_type": "stream",
     "text": [
      "Loading word2vec model ...\n",
      "\n"
     ]
    }
   ],
   "source": [
    "# Training phase\n",
    "from breds.bootstrapping import BREDS\n",
    "breads: BREDS\n",
    "breads = BREDS(\n",
    "            # \"afp_apw_xin_embeddings.bin\",\n",
    "            # 0.3,\n",
    "            # 0.3,\n",
    "            # 6,\n",
    "        )\n",
    "breads.read_train_file('TRAIN_FILE.txt')\n",
    "breads.generate_tuples()\n",
    "breads.init_bootstrap()\n",
    "breads.print_training_accuracy()"
   ]
  },
  {
   "cell_type": "code",
   "execution_count": 2,
   "id": "d37161c0-7aef-4a58-b00d-fa572dce92b3",
   "metadata": {},
   "outputs": [
    {
     "name": "stdout",
     "output_type": "stream",
     "text": [
      "['i', 'me', 'my', 'myself', 'we', 'our', 'ours', 'ourselves', 'you', \"you're\", \"you've\", \"you'll\", \"you'd\", 'your', 'yours', 'yourself', 'yourselves', 'he', 'him', 'his', 'himself', 'she', \"she's\", 'her', 'hers', 'herself', 'it', \"it's\", 'its', 'itself', 'they', 'them', 'their', 'theirs', 'themselves', 'what', 'which', 'who', 'whom', 'this', 'that', \"that'll\", 'these', 'those', 'am', 'is', 'are', 'was', 'were', 'be', 'been', 'being', 'have', 'has', 'had', 'having', 'do', 'does', 'did', 'doing', 'a', 'an', 'the', 'and', 'but', 'if', 'or', 'because', 'as', 'until', 'while', 'of', 'at', 'by', 'for', 'with', 'about', 'against', 'between', 'into', 'through', 'during', 'before', 'after', 'above', 'below', 'to', 'from', 'up', 'down', 'in', 'out', 'on', 'off', 'over', 'under', 'again', 'further', 'then', 'once', 'here', 'there', 'when', 'where', 'why', 'how', 'all', 'any', 'both', 'each', 'few', 'more', 'most', 'other', 'some', 'such', 'no', 'nor', 'not', 'only', 'own', 'same', 'so', 'than', 'too', 'very', 's', 't', 'can', 'will', 'just', 'don', \"don't\", 'should', \"should've\", 'now', 'd', 'll', 'm', 'o', 're', 've', 'y', 'ain', 'aren', \"aren't\", 'couldn', \"couldn't\", 'didn', \"didn't\", 'doesn', \"doesn't\", 'hadn', \"hadn't\", 'hasn', \"hasn't\", 'haven', \"haven't\", 'isn', \"isn't\", 'ma', 'mightn', \"mightn't\", 'mustn', \"mustn't\", 'needn', \"needn't\", 'shan', \"shan't\", 'shouldn', \"shouldn't\", 'wasn', \"wasn't\", 'weren', \"weren't\", 'won', \"won't\", 'wouldn', \"wouldn't\"]\n"
     ]
    },
    {
     "name": "stderr",
     "output_type": "stream",
     "text": [
      "[nltk_data] Downloading package stopwords to\n",
      "[nltk_data]     C:\\Users\\Shano\\AppData\\Roaming\\nltk_data...\n",
      "[nltk_data]   Package stopwords is already up-to-date!\n"
     ]
    }
   ],
   "source": [
    "import nltk\n",
    "nltk.download('stopwords')\n",
    "from nltk.corpus import stopwords\n",
    "stopwords = stopwords.words(\"english\")\n",
    "print(stopwords)"
   ]
  },
  {
   "cell_type": "code",
   "execution_count": null,
   "id": "63d4256e-2020-471a-952c-201ba4735034",
   "metadata": {},
   "outputs": [],
   "source": []
  }
 ],
 "metadata": {
  "kernelspec": {
   "display_name": "Python 3 (ipykernel)",
   "language": "python",
   "name": "python3"
  },
  "language_info": {
   "codemirror_mode": {
    "name": "ipython",
    "version": 3
   },
   "file_extension": ".py",
   "mimetype": "text/x-python",
   "name": "python",
   "nbconvert_exporter": "python",
   "pygments_lexer": "ipython3",
   "version": "3.11.0"
  }
 },
 "nbformat": 4,
 "nbformat_minor": 5
}
